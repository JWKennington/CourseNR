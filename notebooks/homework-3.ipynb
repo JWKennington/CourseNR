{
 "cells": [
  {
   "cell_type": "markdown",
   "id": "00e95c35",
   "metadata": {},
   "source": [
    "# HW 3"
   ]
  },
  {
   "cell_type": "markdown",
   "id": "ec48c332",
   "metadata": {},
   "source": [
    "## Imports"
   ]
  },
  {
   "cell_type": "code",
   "execution_count": 2,
   "id": "c93417c2",
   "metadata": {
    "ExecuteTime": {
     "end_time": "2022-02-07T00:54:55.959156Z",
     "start_time": "2022-02-07T00:54:55.956043Z"
    }
   },
   "outputs": [],
   "source": [
    "import nbtools\n",
    "nbtools.setup_nb()"
   ]
  },
  {
   "cell_type": "code",
   "execution_count": 3,
   "id": "00fd5f73",
   "metadata": {
    "ExecuteTime": {
     "end_time": "2022-02-07T00:55:18.544594Z",
     "start_time": "2022-02-07T00:55:08.443747Z"
    }
   },
   "outputs": [],
   "source": [
    "import itertools\n",
    "import sympy\n",
    "from sympy.diffgeom import Manifold, Patch\n",
    "from pystein import coords, metric, curvature\n",
    "from pystein.utilities import tensor_pow as tpow, full_simplify"
   ]
  },
  {
   "cell_type": "markdown",
   "id": "a2c53209",
   "metadata": {},
   "source": [
    "## Problem 1"
   ]
  },
  {
   "cell_type": "code",
   "execution_count": 68,
   "id": "0cfb3bc9",
   "metadata": {
    "ExecuteTime": {
     "end_time": "2022-02-07T01:40:51.714795Z",
     "start_time": "2022-02-07T01:40:51.583875Z"
    }
   },
   "outputs": [
    {
     "data": {
      "text/latex": [
       "$\\displaystyle \\rho^{2} \\operatorname{d}\\phi \\otimes \\operatorname{d}\\phi + e^{q{\\left(\\rho,z \\right)}} \\left(\\operatorname{d}\\rho \\otimes \\operatorname{d}\\rho + \\operatorname{d}z \\otimes \\operatorname{d}z\\right)$"
      ],
      "text/plain": [
       "rho**2*TensorProduct(dphi, dphi) + exp(q(rho, z))*(TensorProduct(drho, drho) + TensorProduct(dz, dz))"
      ]
     },
     "execution_count": 68,
     "metadata": {},
     "output_type": "execute_result"
    }
   ],
   "source": [
    "M = Manifold('M', dim=3)\n",
    "P = Patch('origin', M)\n",
    "rho, z, phi = sympy.symbols('rho z phi', nonnegative=True)\n",
    "\n",
    "psi = sympy.Function('psi')(rho, z, phi)\n",
    "q = sympy.Function('q')(rho, z)\n",
    "cs = coords.CoordSystem('cylindrical', P, [rho, z, phi])\n",
    "drho, dz, dphi = cs.base_oneforms()\n",
    "\n",
    "\n",
    "ds2 =  (sympy.exp(q) * (tpow(drho, 2) + tpow(dz, 2)) \n",
    "                  + rho ** 2 * tpow(dphi, 2))\n",
    "gamma = metric.Metric(twoform=ds2)\n",
    "\n",
    "gamma"
   ]
  },
  {
   "cell_type": "code",
   "execution_count": 69,
   "id": "f6665e24",
   "metadata": {
    "ExecuteTime": {
     "end_time": "2022-02-07T01:41:11.523904Z",
     "start_time": "2022-02-07T01:41:11.185129Z"
    }
   },
   "outputs": [
    {
     "data": {
      "text/latex": [
       "$\\displaystyle - \\left(\\frac{\\partial^{2}}{\\partial \\rho^{2}} q{\\left(\\rho,z \\right)} + \\frac{\\partial^{2}}{\\partial z^{2}} q{\\left(\\rho,z \\right)}\\right) e^{- q{\\left(\\rho,z \\right)}}$"
      ],
      "text/plain": [
       "-(Derivative(q(rho, z), (rho, 2)) + Derivative(q(rho, z), (z, 2)))*exp(-q(rho, z))"
      ]
     },
     "execution_count": 69,
     "metadata": {},
     "output_type": "execute_result"
    }
   ],
   "source": [
    "ricci = curvature.ricci_scalar(gamma).doit()\n",
    "ricci = full_simplify(ricci)\n",
    "ricci"
   ]
  },
  {
   "cell_type": "code",
   "execution_count": 70,
   "id": "460faee9",
   "metadata": {
    "ExecuteTime": {
     "end_time": "2022-02-07T01:41:14.185374Z",
     "start_time": "2022-02-07T01:41:14.174491Z"
    }
   },
   "outputs": [],
   "source": [
    "christoffels = [((i, i, k), curvature.christoffel_symbol_component(k, i, i, gamma).doit()) \n",
    "                for i, k in itertools.product(range(3), range(3))]"
   ]
  },
  {
   "cell_type": "code",
   "execution_count": 71,
   "id": "63e2024a",
   "metadata": {
    "ExecuteTime": {
     "end_time": "2022-02-07T01:41:14.557634Z",
     "start_time": "2022-02-07T01:41:14.514207Z"
    }
   },
   "outputs": [
    {
     "data": {
      "text/latex": [
       "$\\begin{split} (\\mu=0, \\nu=0, \\rho=0) &: \\frac{\\frac{\\partial}{\\partial \\rho} q{\\left(\\rho,z \\right)}}{2} \\\\ (\\mu=0, \\nu=0, \\rho=1) &: - \\frac{\\frac{\\partial}{\\partial z} q{\\left(\\rho,z \\right)}}{2} \\\\ (\\mu=0, \\nu=0, \\rho=2) &: 0 \\\\ (\\mu=1, \\nu=1, \\rho=0) &: - \\frac{\\frac{\\partial}{\\partial \\rho} q{\\left(\\rho,z \\right)}}{2} \\\\ (\\mu=1, \\nu=1, \\rho=1) &: \\frac{\\frac{\\partial}{\\partial z} q{\\left(\\rho,z \\right)}}{2} \\\\ (\\mu=1, \\nu=1, \\rho=2) &: 0 \\\\ (\\mu=2, \\nu=2, \\rho=0) &: - \\rho e^{- q{\\left(\\rho,z \\right)}} \\\\ (\\mu=2, \\nu=2, \\rho=1) &: 0 \\\\ (\\mu=2, \\nu=2, \\rho=2) &: 0 \\end{split}$"
      ]
     },
     "metadata": {},
     "output_type": "display_data"
    }
   ],
   "source": [
    "curvature.display_components(christoffels)"
   ]
  },
  {
   "cell_type": "markdown",
   "id": "ac28efd5",
   "metadata": {},
   "source": [
    "LHS"
   ]
  },
  {
   "cell_type": "code",
   "execution_count": 72,
   "id": "37ad0bb4",
   "metadata": {
    "ExecuteTime": {
     "end_time": "2022-02-07T01:41:16.376879Z",
     "start_time": "2022-02-07T01:41:16.374454Z"
    }
   },
   "outputs": [],
   "source": [
    "one_form = [sympy.Derivative(psi, cs.base_symbols()[k]) for k in range(3)]"
   ]
  },
  {
   "cell_type": "code",
   "execution_count": 73,
   "id": "bc94182d",
   "metadata": {
    "ExecuteTime": {
     "end_time": "2022-02-07T01:41:17.017421Z",
     "start_time": "2022-02-07T01:41:17.014430Z"
    }
   },
   "outputs": [],
   "source": [
    "def cov_deriv_one_form(i, j, form, g, scale_by_inverse: bool = False):\n",
    "    coord_syms = g.coord_system.base_symbols()\n",
    "    v = sympy.Derivative(form[j], coord_syms[i])\n",
    "    \n",
    "    for k in range(len(coord_syms)):\n",
    "        term = curvature.christoffel_symbol_component(k, i, j, g) * form[k]\n",
    "        if scale_by_inverse:\n",
    "            term *= g.matrix.inverse()[i, j]\n",
    "        v -= term\n",
    "\n",
    "    return full_simplify(v.doit())"
   ]
  },
  {
   "cell_type": "code",
   "execution_count": 74,
   "id": "2fbf593a",
   "metadata": {
    "ExecuteTime": {
     "end_time": "2022-02-07T01:41:17.592911Z",
     "start_time": "2022-02-07T01:41:17.590370Z"
    }
   },
   "outputs": [],
   "source": [
    "def Dbar2(i, j, conformal_func, g):\n",
    "    one_form = [sympy.Derivative(psi, g.coord_system.base_symbols()[k]) for k in range(3)]\n",
    "    raw = cov_deriv_one_form(i, j, one_form, g)\n",
    "    return full_simplify(raw.doit())"
   ]
  },
  {
   "cell_type": "code",
   "execution_count": 75,
   "id": "25082921",
   "metadata": {
    "ExecuteTime": {
     "end_time": "2022-02-07T01:41:18.471912Z",
     "start_time": "2022-02-07T01:41:17.974467Z"
    }
   },
   "outputs": [],
   "source": [
    "DiDjPsi = sympy.Matrix([[Dbar2(0, j, psi, gamma) for j in range(3)],\n",
    "                            [Dbar2(1, j, psi, gamma) for j in range(3)],\n",
    "                            [Dbar2(2, j, psi, gamma) for j in range(3)]])"
   ]
  },
  {
   "cell_type": "code",
   "execution_count": 76,
   "id": "03dd2795",
   "metadata": {
    "ExecuteTime": {
     "end_time": "2022-02-07T01:41:18.506796Z",
     "start_time": "2022-02-07T01:41:18.473770Z"
    }
   },
   "outputs": [],
   "source": [
    "Dbar2Psi = sum([gamma.matrix.inverse()[i, j] * DiDjPsi[i, j] \n",
    "                for i, j in itertools.product(range(3), range(3))])"
   ]
  },
  {
   "cell_type": "code",
   "execution_count": 77,
   "id": "dbaad41e",
   "metadata": {
    "ExecuteTime": {
     "end_time": "2022-02-07T01:41:19.165439Z",
     "start_time": "2022-02-07T01:41:19.054432Z"
    }
   },
   "outputs": [],
   "source": [
    "LHS = full_simplify(Dbar2Psi)\n",
    "RHS = psi / 8 * ricci"
   ]
  },
  {
   "cell_type": "code",
   "execution_count": 78,
   "id": "3b9bcea1",
   "metadata": {
    "ExecuteTime": {
     "end_time": "2022-02-07T01:41:19.848623Z",
     "start_time": "2022-02-07T01:41:19.846552Z"
    }
   },
   "outputs": [],
   "source": [
    "notation_subs = [\n",
    "    (psi, sympy.symbols('psi'))\n",
    "]"
   ]
  },
  {
   "cell_type": "code",
   "execution_count": 79,
   "id": "9267de3d",
   "metadata": {
    "ExecuteTime": {
     "end_time": "2022-02-07T01:41:20.117420Z",
     "start_time": "2022-02-07T01:41:20.111439Z"
    },
    "scrolled": true
   },
   "outputs": [
    {
     "data": {
      "text/latex": [
       "$\\displaystyle \\frac{\\left(\\rho^{2} \\left(\\frac{d^{2}}{d \\rho^{2}} \\psi + \\frac{d^{2}}{d z^{2}} \\psi\\right) + \\rho \\frac{d}{d \\rho} \\psi + e^{q{\\left(\\rho,z \\right)}} \\frac{d^{2}}{d \\phi^{2}} \\psi\\right) e^{- q{\\left(\\rho,z \\right)}}}{\\rho^{2}}$"
      ],
      "text/plain": [
       "(rho**2*(Derivative(psi, (rho, 2)) + Derivative(psi, (z, 2))) + rho*Derivative(psi, rho) + exp(q(rho, z))*Derivative(psi, (phi, 2)))*exp(-q(rho, z))/rho**2"
      ]
     },
     "execution_count": 79,
     "metadata": {},
     "output_type": "execute_result"
    }
   ],
   "source": [
    "LHS.subs(notation_subs)"
   ]
  },
  {
   "cell_type": "code",
   "execution_count": 80,
   "id": "34b674f5",
   "metadata": {
    "ExecuteTime": {
     "end_time": "2022-02-07T01:41:20.877881Z",
     "start_time": "2022-02-07T01:41:20.873019Z"
    }
   },
   "outputs": [
    {
     "data": {
      "text/latex": [
       "$\\displaystyle - \\frac{\\psi \\left(\\frac{\\partial^{2}}{\\partial \\rho^{2}} q{\\left(\\rho,z \\right)} + \\frac{\\partial^{2}}{\\partial z^{2}} q{\\left(\\rho,z \\right)}\\right) e^{- q{\\left(\\rho,z \\right)}}}{8}$"
      ],
      "text/plain": [
       "-psi*(Derivative(q(rho, z), (rho, 2)) + Derivative(q(rho, z), (z, 2)))*exp(-q(rho, z))/8"
      ]
     },
     "execution_count": 80,
     "metadata": {},
     "output_type": "execute_result"
    }
   ],
   "source": [
    "RHS.subs(notation_subs)"
   ]
  },
  {
   "cell_type": "code",
   "execution_count": 50,
   "id": "f4cb4bf5",
   "metadata": {
    "ExecuteTime": {
     "end_time": "2022-02-07T01:27:38.085865Z",
     "start_time": "2022-02-07T01:27:38.083410Z"
    }
   },
   "outputs": [],
   "source": [
    "def flat_laplacian(func):\n",
    "    return ((1 / rho) * sympy.Derivative((rho * sympy.Derivative(func, rho)), rho)\n",
    "             + (1 / rho) ** 2 * sympy.Derivative(sympy.Derivative(func, phi), phi)\n",
    "             + sympy.Derivative(sympy.Derivative(func, z), z))"
   ]
  },
  {
   "cell_type": "code",
   "execution_count": 67,
   "id": "93ead6eb",
   "metadata": {
    "ExecuteTime": {
     "end_time": "2022-02-07T01:30:18.516554Z",
     "start_time": "2022-02-07T01:30:18.508085Z"
    }
   },
   "outputs": [
    {
     "data": {
      "text/latex": [
       "$\\displaystyle \\frac{d^{2}}{d z^{2}} \\psi + \\frac{\\rho \\frac{d^{2}}{d \\rho^{2}} \\psi + \\frac{d}{d \\rho} \\psi}{\\rho} + \\frac{\\frac{d^{2}}{d \\phi^{2}} \\psi}{\\rho^{2}}$"
      ],
      "text/plain": [
       "Derivative(psi, (z, 2)) + (rho*Derivative(psi, (rho, 2)) + Derivative(psi, rho))/rho + Derivative(psi, (phi, 2))/rho**2"
      ]
     },
     "execution_count": 67,
     "metadata": {},
     "output_type": "execute_result"
    }
   ],
   "source": [
    "flat_laplacian(psi).doit().subs(notation_subs)"
   ]
  },
  {
   "cell_type": "code",
   "execution_count": 81,
   "id": "31f2bb09",
   "metadata": {
    "ExecuteTime": {
     "end_time": "2022-02-07T01:45:48.780216Z",
     "start_time": "2022-02-07T01:45:48.772932Z"
    }
   },
   "outputs": [
    {
     "data": {
      "text/latex": [
       "$\\displaystyle \\left[\\begin{matrix}e^{- q{\\left(\\rho,z \\right)}} & 0 & 0\\\\0 & e^{- q{\\left(\\rho,z \\right)}} & 0\\\\0 & 0 & \\frac{1}{\\rho^{2}}\\end{matrix}\\right]$"
      ],
      "text/plain": [
       "Matrix([\n",
       "[exp(-q(rho, z)),               0,         0],\n",
       "[              0, exp(-q(rho, z)),         0],\n",
       "[              0,               0, rho**(-2)]])"
      ]
     },
     "execution_count": 81,
     "metadata": {},
     "output_type": "execute_result"
    }
   ],
   "source": [
    "gamma.matrix.inverse()"
   ]
  },
  {
   "cell_type": "code",
   "execution_count": null,
   "id": "ce2471fd",
   "metadata": {},
   "outputs": [],
   "source": []
  },
  {
   "cell_type": "code",
   "execution_count": null,
   "id": "13461f67",
   "metadata": {},
   "outputs": [],
   "source": []
  },
  {
   "cell_type": "code",
   "execution_count": null,
   "id": "17fee431",
   "metadata": {},
   "outputs": [],
   "source": [
    "cov_deriv_one_form()"
   ]
  },
  {
   "cell_type": "code",
   "execution_count": null,
   "id": "162a8e41",
   "metadata": {},
   "outputs": [],
   "source": []
  }
 ],
 "metadata": {
  "kernelspec": {
   "display_name": "Python 3 (ipykernel)",
   "language": "python",
   "name": "python3"
  },
  "language_info": {
   "codemirror_mode": {
    "name": "ipython",
    "version": 3
   },
   "file_extension": ".py",
   "mimetype": "text/x-python",
   "name": "python",
   "nbconvert_exporter": "python",
   "pygments_lexer": "ipython3",
   "version": "3.10.2"
  }
 },
 "nbformat": 4,
 "nbformat_minor": 5
}
