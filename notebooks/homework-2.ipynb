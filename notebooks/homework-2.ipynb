{
 "cells": [
  {
   "cell_type": "markdown",
   "id": "d6d2b778",
   "metadata": {},
   "source": [
    "# Homework 2"
   ]
  },
  {
   "cell_type": "markdown",
   "id": "c148bb3a",
   "metadata": {},
   "source": [
    "## Imports"
   ]
  },
  {
   "cell_type": "code",
   "execution_count": 1,
   "id": "42621397",
   "metadata": {
    "ExecuteTime": {
     "end_time": "2022-01-31T03:01:35.411254Z",
     "start_time": "2022-01-31T03:01:35.400508Z"
    }
   },
   "outputs": [],
   "source": [
    "import nbtools\n",
    "nbtools.setup_nb()"
   ]
  },
  {
   "cell_type": "code",
   "execution_count": 2,
   "id": "e510edbe",
   "metadata": {
    "ExecuteTime": {
     "end_time": "2022-01-31T03:01:36.492150Z",
     "start_time": "2022-01-31T03:01:35.514760Z"
    }
   },
   "outputs": [],
   "source": [
    "import itertools\n",
    "import sympy\n",
    "from sympy.diffgeom import Manifold, Patch\n",
    "from pystein import coords, metric, curvature\n",
    "from pystein.utilities import tensor_pow as tpow"
   ]
  },
  {
   "cell_type": "markdown",
   "id": "ba96745a",
   "metadata": {},
   "source": [
    "## Problem 2"
   ]
  },
  {
   "cell_type": "code",
   "execution_count": 3,
   "id": "f4152629",
   "metadata": {
    "ExecuteTime": {
     "end_time": "2022-01-31T03:01:36.844444Z",
     "start_time": "2022-01-31T03:01:36.495452Z"
    }
   },
   "outputs": [
    {
     "data": {
      "text/latex": [
       "$\\displaystyle r^{2} \\sin^{2}{\\left(\\theta \\right)} \\operatorname{d}\\phi \\otimes \\operatorname{d}\\phi + r^{2} \\operatorname{d}\\theta \\otimes \\operatorname{d}\\theta + \\operatorname{d}r \\otimes \\operatorname{d}r$"
      ],
      "text/plain": [
       "r**2*sin(theta)**2*TensorProduct(dphi, dphi) + r**2*TensorProduct(dtheta, dtheta) + TensorProduct(dr, dr)"
      ]
     },
     "execution_count": 3,
     "metadata": {},
     "output_type": "execute_result"
    }
   ],
   "source": [
    "M = Manifold('M', dim=3)\n",
    "P = Patch('origin', M)\n",
    "r, theta, phi = sympy.symbols('r theta phi', nonnegative=True)\n",
    "cs = coords.CoordSystem('spherical-polar', P, [r, theta, phi])\n",
    "dr, dtheta, dphi = cs.base_oneforms()\n",
    "\n",
    "\n",
    "ds2 = tpow(dr, 2) + r ** 2 * tpow(dtheta, 2) + r ** 2 * sympy.sin(theta) ** 2 * tpow(dphi, 2)\n",
    "gamma = metric.Metric(twoform=ds2)\n",
    "\n",
    "gamma"
   ]
  },
  {
   "cell_type": "code",
   "execution_count": 11,
   "id": "b2540392",
   "metadata": {
    "ExecuteTime": {
     "end_time": "2022-01-31T03:16:21.254571Z",
     "start_time": "2022-01-31T03:16:21.148824Z"
    }
   },
   "outputs": [],
   "source": [
    "christoffels = [((i, j, k), curvature.christoffel_symbol_component(i, j, k, gamma)) \n",
    "                for i, j, k in itertools.product(range(3), range(3), range(3))]"
   ]
  },
  {
   "cell_type": "code",
   "execution_count": 4,
   "id": "6625616b",
   "metadata": {
    "ExecuteTime": {
     "end_time": "2022-01-31T03:01:37.223622Z",
     "start_time": "2022-01-31T03:01:36.849366Z"
    }
   },
   "outputs": [],
   "source": [
    "riccis = [((i, j), curvature.ricci_tensor_component(i, j, gamma)) \n",
    "          for i, j in itertools.product(range(3), range(3))]"
   ]
  },
  {
   "cell_type": "code",
   "execution_count": 12,
   "id": "d8742d56",
   "metadata": {
    "ExecuteTime": {
     "end_time": "2022-01-31T03:16:26.365027Z",
     "start_time": "2022-01-31T03:16:25.547383Z"
    }
   },
   "outputs": [
    {
     "data": {
      "text/latex": [
       "$\\begin{split} (\\mu=0, \\nu=0, \\rho=0) &: 0 \\\\ (\\mu=0, \\nu=0, \\rho=1) &: 0 \\\\ (\\mu=0, \\nu=0, \\rho=2) &: 0 \\\\ (\\mu=0, \\nu=1, \\rho=0) &: 0 \\\\ (\\mu=0, \\nu=1, \\rho=1) &: - r \\\\ (\\mu=0, \\nu=1, \\rho=2) &: 0 \\\\ (\\mu=0, \\nu=2, \\rho=0) &: 0 \\\\ (\\mu=0, \\nu=2, \\rho=1) &: 0 \\\\ (\\mu=0, \\nu=2, \\rho=2) &: - r \\sin^{2}{\\left(\\theta \\right)} \\\\ (\\mu=1, \\nu=0, \\rho=0) &: 0 \\\\ (\\mu=1, \\nu=0, \\rho=1) &: \\frac{1}{r} \\\\ (\\mu=1, \\nu=0, \\rho=2) &: 0 \\\\ (\\mu=1, \\nu=1, \\rho=0) &: \\frac{1}{r} \\\\ (\\mu=1, \\nu=1, \\rho=1) &: 0 \\\\ (\\mu=1, \\nu=1, \\rho=2) &: 0 \\\\ (\\mu=1, \\nu=2, \\rho=0) &: 0 \\\\ (\\mu=1, \\nu=2, \\rho=1) &: 0 \\\\ (\\mu=1, \\nu=2, \\rho=2) &: - \\frac{\\sin{\\left(2 \\theta \\right)}}{2} \\\\ (\\mu=2, \\nu=0, \\rho=0) &: 0 \\\\ (\\mu=2, \\nu=0, \\rho=1) &: 0 \\\\ (\\mu=2, \\nu=0, \\rho=2) &: \\frac{1}{r} \\\\ (\\mu=2, \\nu=1, \\rho=0) &: 0 \\\\ (\\mu=2, \\nu=1, \\rho=1) &: 0 \\\\ (\\mu=2, \\nu=1, \\rho=2) &: \\frac{1}{\\tan{\\left(\\theta \\right)}} \\\\ (\\mu=2, \\nu=2, \\rho=0) &: \\frac{1}{r} \\\\ (\\mu=2, \\nu=2, \\rho=1) &: \\frac{1}{\\tan{\\left(\\theta \\right)}} \\\\ (\\mu=2, \\nu=2, \\rho=2) &: 0 \\end{split}$"
      ]
     },
     "metadata": {},
     "output_type": "display_data"
    }
   ],
   "source": [
    "curvature.display_components(christoffels)"
   ]
  },
  {
   "cell_type": "code",
   "execution_count": 8,
   "id": "01f53ae5",
   "metadata": {
    "ExecuteTime": {
     "end_time": "2022-01-31T03:01:59.138816Z",
     "start_time": "2022-01-31T03:01:59.110132Z"
    }
   },
   "outputs": [
    {
     "data": {
      "text/latex": [
       "$\\displaystyle \\frac{d}{d \\theta} \\frac{2 \\frac{d}{d r} 0 - \\frac{d}{d \\theta} 1}{2 r^{2}} - \\frac{d}{d r} \\frac{\\frac{d}{d r} r^{2}}{2 r^{2}} + \\frac{\\partial}{\\partial \\phi} \\frac{2 \\frac{d}{d r} 0 - \\frac{d}{d \\phi} 1}{2 r^{2} \\sin^{2}{\\left(\\theta \\right)}} - \\frac{\\partial}{\\partial r} \\frac{\\frac{\\partial}{\\partial r} r^{2} \\sin^{2}{\\left(\\theta \\right)}}{2 r^{2} \\sin^{2}{\\left(\\theta \\right)}} - \\frac{\\left(2 \\frac{d}{d r} 0 - \\frac{d}{d \\phi} 1\\right) \\frac{d}{d \\phi} 1}{4 r^{2} \\sin^{2}{\\left(\\theta \\right)}} - \\frac{\\left(2 \\frac{d}{d r} 0 - \\frac{d}{d \\theta} 1\\right) \\frac{d}{d \\theta} 1}{4 r^{2}} + \\frac{\\frac{d}{d r} 1 \\frac{d}{d r} r^{2}}{4 r^{2}} + \\frac{\\frac{d}{d r} 1 \\frac{\\partial}{\\partial r} r^{2} \\sin^{2}{\\left(\\theta \\right)}}{4 r^{2} \\sin^{2}{\\left(\\theta \\right)}} + \\frac{\\left(2 \\frac{d}{d r} 0 - \\frac{d}{d \\phi} 1\\right) \\frac{d}{d \\phi} r^{2}}{4 r^{4} \\sin^{2}{\\left(\\theta \\right)}} + \\frac{\\left(2 \\frac{d}{d r} 0 - \\frac{d}{d \\phi} 1\\right) \\frac{\\partial}{\\partial \\phi} r^{2} \\sin^{2}{\\left(\\theta \\right)}}{4 r^{4} \\sin^{4}{\\left(\\theta \\right)}} + \\frac{\\left(2 \\frac{d}{d r} 0 - \\frac{d}{d \\theta} 1\\right) \\frac{d}{d \\theta} r^{2}}{4 r^{4}} + \\frac{\\left(2 \\frac{d}{d r} 0 - \\frac{d}{d \\theta} 1\\right) \\frac{\\partial}{\\partial \\theta} r^{2} \\sin^{2}{\\left(\\theta \\right)}}{4 r^{4} \\sin^{2}{\\left(\\theta \\right)}} - \\frac{\\left(- \\frac{d}{d \\phi} 0 + \\frac{d}{d r} 0 + \\frac{d}{d \\theta} 0\\right) \\left(\\frac{d}{d \\phi} 0 + \\frac{d}{d r} 0 - \\frac{d}{d \\theta} 0\\right)}{2 r^{4} \\sin^{2}{\\left(\\theta \\right)}} - \\frac{\\left(\\frac{d}{d r} r^{2}\\right)^{2}}{4 r^{4}} - \\frac{\\left(\\frac{\\partial}{\\partial r} r^{2} \\sin^{2}{\\left(\\theta \\right)}\\right)^{2}}{4 r^{4} \\sin^{4}{\\left(\\theta \\right)}}$"
      ],
      "text/plain": [
       "Derivative((2*Derivative(0, r) - Derivative(1, theta))/(2*r**2), theta) - Derivative(Derivative(r**2, r)/(2*r**2), r) + Derivative((2*Derivative(0, r) - Derivative(1, phi))/(2*r**2*sin(theta)**2), phi) - Derivative(Derivative(r**2*sin(theta)**2, r)/(2*r**2*sin(theta)**2), r) - (2*Derivative(0, r) - Derivative(1, phi))*Derivative(1, phi)/(4*r**2*sin(theta)**2) - (2*Derivative(0, r) - Derivative(1, theta))*Derivative(1, theta)/(4*r**2) + Derivative(1, r)*Derivative(r**2, r)/(4*r**2) + Derivative(1, r)*Derivative(r**2*sin(theta)**2, r)/(4*r**2*sin(theta)**2) + (2*Derivative(0, r) - Derivative(1, phi))*Derivative(r**2, phi)/(4*r**4*sin(theta)**2) + (2*Derivative(0, r) - Derivative(1, phi))*Derivative(r**2*sin(theta)**2, phi)/(4*r**4*sin(theta)**4) + (2*Derivative(0, r) - Derivative(1, theta))*Derivative(r**2, theta)/(4*r**4) + (2*Derivative(0, r) - Derivative(1, theta))*Derivative(r**2*sin(theta)**2, theta)/(4*r**4*sin(theta)**2) - (-Derivative(0, phi) + Derivative(0, r) + Derivative(0, theta))*(Derivative(0, phi) + Derivative(0, r) - Derivative(0, theta))/(2*r**4*sin(theta)**2) - Derivative(r**2, r)**2/(4*r**4) - Derivative(r**2*sin(theta)**2, r)**2/(4*r**4*sin(theta)**4)"
      ]
     },
     "execution_count": 8,
     "metadata": {},
     "output_type": "execute_result"
    }
   ],
   "source": [
    "riccis[0][-1]"
   ]
  },
  {
   "cell_type": "code",
   "execution_count": 9,
   "id": "49192d18",
   "metadata": {
    "ExecuteTime": {
     "end_time": "2022-01-31T03:02:03.908143Z",
     "start_time": "2022-01-31T03:02:03.896753Z"
    }
   },
   "outputs": [
    {
     "data": {
      "text/latex": [
       "$\\displaystyle 0$"
      ],
      "text/plain": [
       "0"
      ]
     },
     "execution_count": 9,
     "metadata": {},
     "output_type": "execute_result"
    }
   ],
   "source": [
    "riccis[0][-1].doit()"
   ]
  },
  {
   "cell_type": "code",
   "execution_count": 5,
   "id": "e0cdffd9",
   "metadata": {
    "ExecuteTime": {
     "end_time": "2022-01-31T03:01:22.500617Z",
     "start_time": "2022-01-31T03:01:22.425005Z"
    }
   },
   "outputs": [
    {
     "data": {
      "text/latex": [
       "$\\begin{split} (\\mu=0, \\nu=0) &: 0 \\\\ (\\mu=0, \\nu=1) &: 0 \\\\ (\\mu=0, \\nu=2) &: 0 \\\\ (\\mu=1, \\nu=0) &: 0 \\\\ (\\mu=1, \\nu=1) &: 0 \\\\ (\\mu=1, \\nu=2) &: 0 \\\\ (\\mu=2, \\nu=0) &: 0 \\\\ (\\mu=2, \\nu=1) &: 0 \\\\ (\\mu=2, \\nu=2) &: 0 \\end{split}$"
      ]
     },
     "metadata": {},
     "output_type": "display_data"
    }
   ],
   "source": [
    "curvature.display_components(riccis)"
   ]
  },
  {
   "cell_type": "code",
   "execution_count": null,
   "id": "f4746056",
   "metadata": {},
   "outputs": [],
   "source": []
  },
  {
   "cell_type": "code",
   "execution_count": null,
   "id": "fdc33d90",
   "metadata": {},
   "outputs": [],
   "source": []
  },
  {
   "cell_type": "code",
   "execution_count": null,
   "id": "7573f82e",
   "metadata": {},
   "outputs": [],
   "source": []
  },
  {
   "cell_type": "code",
   "execution_count": null,
   "id": "fb3f3e56",
   "metadata": {},
   "outputs": [],
   "source": []
  },
  {
   "cell_type": "code",
   "execution_count": null,
   "id": "18539c56",
   "metadata": {},
   "outputs": [],
   "source": []
  }
 ],
 "metadata": {
  "kernelspec": {
   "display_name": "Python 3 (ipykernel)",
   "language": "python",
   "name": "python3"
  },
  "language_info": {
   "codemirror_mode": {
    "name": "ipython",
    "version": 3
   },
   "file_extension": ".py",
   "mimetype": "text/x-python",
   "name": "python",
   "nbconvert_exporter": "python",
   "pygments_lexer": "ipython3",
   "version": "3.10.1"
  }
 },
 "nbformat": 4,
 "nbformat_minor": 5
}
