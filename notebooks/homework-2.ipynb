{
 "cells": [
  {
   "cell_type": "markdown",
   "id": "1924dfd8",
   "metadata": {},
   "source": [
    "# Homework 2"
   ]
  },
  {
   "cell_type": "markdown",
   "id": "eb8b5556",
   "metadata": {},
   "source": [
    "## Imports"
   ]
  },
  {
   "cell_type": "code",
   "execution_count": 1,
   "id": "a8918af5",
   "metadata": {
    "ExecuteTime": {
     "end_time": "2022-01-31T03:01:35.411254Z",
     "start_time": "2022-01-31T03:01:35.400508Z"
    }
   },
   "outputs": [],
   "source": [
    "import nbtools\n",
    "nbtools.setup_nb()"
   ]
  },
  {
   "cell_type": "code",
   "execution_count": 15,
   "id": "d61fdbe2",
   "metadata": {
    "ExecuteTime": {
     "end_time": "2022-01-31T03:23:35.726873Z",
     "start_time": "2022-01-31T03:23:35.721957Z"
    }
   },
   "outputs": [],
   "source": [
    "import itertools\n",
    "import sympy\n",
    "from sympy.diffgeom import Manifold, Patch\n",
    "from pystein import coords, metric, curvature\n",
    "from pystein.utilities import tensor_pow as tpow, full_simplify"
   ]
  },
  {
   "cell_type": "markdown",
   "id": "be9fa2e8",
   "metadata": {},
   "source": [
    "## Problem 2"
   ]
  },
  {
   "cell_type": "code",
   "execution_count": null,
   "outputs": [],
   "source": [],
   "metadata": {
    "collapsed": false,
    "pycharm": {
     "name": "#%%\n"
    }
   }
  },
  {
   "cell_type": "code",
   "execution_count": 3,
   "id": "fe8032d8",
   "metadata": {
    "ExecuteTime": {
     "end_time": "2022-01-31T03:01:36.844444Z",
     "start_time": "2022-01-31T03:01:36.495452Z"
    }
   },
   "outputs": [
    {
     "data": {
      "text/latex": [
       "$\\displaystyle r^{2} \\sin^{2}{\\left(\\theta \\right)} \\operatorname{d}\\phi \\otimes \\operatorname{d}\\phi + r^{2} \\operatorname{d}\\theta \\otimes \\operatorname{d}\\theta + \\operatorname{d}r \\otimes \\operatorname{d}r$"
      ],
      "text/plain": [
       "r**2*sin(theta)**2*TensorProduct(dphi, dphi) + r**2*TensorProduct(dtheta, dtheta) + TensorProduct(dr, dr)"
      ]
     },
     "execution_count": 3,
     "metadata": {},
     "output_type": "execute_result"
    }
   ],
   "source": [
    "M = Manifold('M', dim=3)\n",
    "P = Patch('origin', M)\n",
    "r, theta, phi = sympy.symbols('r theta phi', nonnegative=True)\n",
    "cs = coords.CoordSystem('spherical-polar', P, [r, theta, phi])\n",
    "dr, dtheta, dphi = cs.base_oneforms()\n",
    "\n",
    "\n",
    "ds2 = tpow(dr, 2) + r ** 2 * tpow(dtheta, 2) + r ** 2 * sympy.sin(theta) ** 2 * tpow(dphi, 2)\n",
    "gamma = metric.Metric(twoform=ds2)\n",
    "\n",
    "gamma"
   ]
  },
  {
   "cell_type": "code",
   "execution_count": 16,
   "id": "533ec2f7",
   "metadata": {
    "ExecuteTime": {
     "end_time": "2022-01-31T03:23:50.055016Z",
     "start_time": "2022-01-31T03:23:49.288033Z"
    }
   },
   "outputs": [],
   "source": [
    "christoffels = [((i, j, k), full_simplify(curvature.christoffel_symbol_component(i, j, k, gamma))) \n",
    "                for i, j, k in itertools.product(range(3), range(3), range(3))]"
   ]
  },
  {
   "cell_type": "code",
   "execution_count": 49,
   "id": "38fa1bf9",
   "metadata": {
    "ExecuteTime": {
     "end_time": "2022-01-31T03:58:25.843975Z",
     "start_time": "2022-01-31T03:58:25.660990Z"
    }
   },
   "outputs": [
    {
     "data": {
      "text/latex": [
       "$\\begin{split} (\\mu=0, \\nu=1, \\rho=1) &: - r \\\\ (\\mu=0, \\nu=2, \\rho=2) &: - r \\sin^{2}{\\left(\\theta \\right)} \\\\ (\\mu=1, \\nu=0, \\rho=1) &: \\frac{1}{r} \\\\ (\\mu=1, \\nu=1, \\rho=0) &: \\frac{1}{r} \\\\ (\\mu=1, \\nu=2, \\rho=2) &: - \\frac{\\sin{\\left(2 \\theta \\right)}}{2} \\\\ (\\mu=2, \\nu=0, \\rho=2) &: \\frac{1}{r} \\\\ (\\mu=2, \\nu=1, \\rho=2) &: \\frac{1}{\\tan{\\left(\\theta \\right)}} \\\\ (\\mu=2, \\nu=2, \\rho=0) &: \\frac{1}{r} \\\\ (\\mu=2, \\nu=2, \\rho=1) &: \\frac{1}{\\tan{\\left(\\theta \\right)}} \\end{split}$"
      ]
     },
     "metadata": {},
     "output_type": "display_data"
    }
   ],
   "source": [
    "curvature.display_components([c for c in christoffels if c[1]])"
   ]
  },
  {
   "cell_type": "code",
   "execution_count": 19,
   "id": "f83f0c86",
   "metadata": {
    "ExecuteTime": {
     "end_time": "2022-01-31T03:25:10.793621Z",
     "start_time": "2022-01-31T03:25:10.422881Z"
    }
   },
   "outputs": [],
   "source": [
    "riccis = [((i, j), full_simplify(curvature.ricci_tensor_component(i, j, gamma).doit())) \n",
    "          for i, j in itertools.product(range(3), range(3))]"
   ]
  },
  {
   "cell_type": "code",
   "execution_count": 20,
   "id": "debe06ec",
   "metadata": {
    "ExecuteTime": {
     "end_time": "2022-01-31T03:25:14.687845Z",
     "start_time": "2022-01-31T03:25:14.673465Z"
    }
   },
   "outputs": [
    {
     "data": {
      "text/latex": [
       "$\\begin{split} (\\mu=0, \\nu=0) &: 0 \\\\ (\\mu=0, \\nu=1) &: 0 \\\\ (\\mu=0, \\nu=2) &: 0 \\\\ (\\mu=1, \\nu=0) &: 0 \\\\ (\\mu=1, \\nu=1) &: 0 \\\\ (\\mu=1, \\nu=2) &: 0 \\\\ (\\mu=2, \\nu=0) &: 0 \\\\ (\\mu=2, \\nu=1) &: 0 \\\\ (\\mu=2, \\nu=2) &: 0 \\end{split}$"
      ]
     },
     "metadata": {},
     "output_type": "display_data"
    }
   ],
   "source": [
    "curvature.display_components(riccis)"
   ]
  },
  {
   "cell_type": "markdown",
   "id": "85b68b55",
   "metadata": {},
   "source": [
    " Computing $\\beta_j$"
   ]
  },
  {
   "cell_type": "code",
   "execution_count": 22,
   "id": "4f0beff5",
   "metadata": {
    "ExecuteTime": {
     "end_time": "2022-01-31T03:39:33.148771Z",
     "start_time": "2022-01-31T03:39:33.144123Z"
    }
   },
   "outputs": [],
   "source": [
    "M = sympy.symbols('M')"
   ]
  },
  {
   "cell_type": "code",
   "execution_count": 23,
   "id": "278ddfe5",
   "metadata": {
    "ExecuteTime": {
     "end_time": "2022-01-31T03:39:51.792124Z",
     "start_time": "2022-01-31T03:39:51.763103Z"
    }
   },
   "outputs": [
    {
     "data": {
      "text/latex": [
       "$\\displaystyle \\left[\\begin{matrix}\\sqrt{2} \\sqrt{\\frac{M}{r}}\\\\0\\\\0\\end{matrix}\\right]$"
      ],
      "text/plain": [
       "Matrix([\n",
       "[sqrt(2)*sqrt(M/r)],\n",
       "[                0],\n",
       "[                0]])"
      ]
     },
     "execution_count": 23,
     "metadata": {},
     "output_type": "execute_result"
    }
   ],
   "source": [
    "beta_j = sympy.Matrix([sympy.sqrt(2 * M / r), 0, 0])\n",
    "beta_j"
   ]
  },
  {
   "cell_type": "code",
   "execution_count": 25,
   "id": "f3f31f86",
   "metadata": {
    "ExecuteTime": {
     "end_time": "2022-01-31T03:45:03.674702Z",
     "start_time": "2022-01-31T03:45:03.662588Z"
    }
   },
   "outputs": [
    {
     "data": {
      "text/latex": [
       "$\\displaystyle \\left[\\begin{matrix}\\sqrt{2} \\sqrt{\\frac{M}{r}} & 0 & 0\\end{matrix}\\right]$"
      ],
      "text/plain": [
       "Matrix([[sqrt(2)*sqrt(M/r), 0, 0]])"
      ]
     },
     "execution_count": 25,
     "metadata": {},
     "output_type": "execute_result"
    }
   ],
   "source": [
    "(gamma.matrix * beta_j).T"
   ]
  },
  {
   "cell_type": "code",
   "execution_count": 80,
   "id": "556a6f51",
   "metadata": {
    "ExecuteTime": {
     "end_time": "2022-01-31T04:20:09.590639Z",
     "start_time": "2022-01-31T04:20:09.585318Z"
    }
   },
   "outputs": [],
   "source": [
    "def cov_deriv_one_form(i, j, form, g):\n",
    "    coord_syms = g.coord_system.base_symbols()\n",
    "    v = sympy.Derivative(form[j], coord_syms[i])\n",
    "    \n",
    "    for k in range(len(coord_syms)):\n",
    "        v -= curvature.christoffel_symbol_component(k, i, j, g) * form[k]\n",
    "\n",
    "    return full_simplify(v.doit())"
   ]
  },
  {
   "cell_type": "code",
   "execution_count": 81,
   "id": "fec0cc5b",
   "metadata": {
    "ExecuteTime": {
     "end_time": "2022-01-31T04:20:10.106297Z",
     "start_time": "2022-01-31T04:20:10.090136Z"
    }
   },
   "outputs": [],
   "source": [
    "def k_ij(i, j, beta_j, g, alpha = 1):\n",
    "    d_i_beta_j = cov_deriv_one_form(i, j, beta_j, g)\n",
    "    d_j_beta_i = cov_deriv_one_form(j, i, beta_j, g)\n",
    "    return - sympy.Rational(1, 2) / alpha * (d_i_beta_j + d_j_beta_i)"
   ]
  },
  {
   "cell_type": "code",
   "execution_count": 83,
   "id": "da4c7753",
   "metadata": {
    "ExecuteTime": {
     "end_time": "2022-01-31T04:21:10.807859Z",
     "start_time": "2022-01-31T04:21:10.521580Z"
    }
   },
   "outputs": [],
   "source": [
    "K_ij = sympy.Matrix([[k_ij(0, j, beta_j, gamma) for j in range(3)],\n",
    "                     [k_ij(1, j, beta_j, gamma) for j in range(3)],\n",
    "                     [k_ij(2, j, beta_j, gamma) for j in range(3)]])"
   ]
  },
  {
   "cell_type": "code",
   "execution_count": 85,
   "id": "b816b286",
   "metadata": {
    "ExecuteTime": {
     "end_time": "2022-01-31T04:22:05.927746Z",
     "start_time": "2022-01-31T04:22:05.891850Z"
    }
   },
   "outputs": [
    {
     "data": {
      "text/latex": [
       "$\\displaystyle \\left[\\begin{matrix}\\frac{\\sqrt{2} \\sqrt{\\frac{M}{r}}}{2 r} & 0 & 0\\\\0 & - \\sqrt{2} r \\sqrt{\\frac{M}{r}} & 0\\\\0 & 0 & - \\sqrt{2} r \\sqrt{\\frac{M}{r}} \\sin^{2}{\\left(\\theta \\right)}\\end{matrix}\\right]$"
      ],
      "text/plain": [
       "Matrix([\n",
       "[sqrt(2)*sqrt(M/r)/(2*r),                    0,                                  0],\n",
       "[                      0, -sqrt(2)*r*sqrt(M/r),                                  0],\n",
       "[                      0,                    0, -sqrt(2)*r*sqrt(M/r)*sin(theta)**2]])"
      ]
     },
     "execution_count": 85,
     "metadata": {},
     "output_type": "execute_result"
    }
   ],
   "source": [
    "K_ij = - (d_i_beta_j + d_j_beta_i) / 2\n",
    "K_ij #/ beta_j[0]"
   ]
  },
  {
   "cell_type": "markdown",
   "id": "4628552f",
   "metadata": {},
   "source": [
    "$$K_{ij} \\approx \\frac{1}{r} \\beta^r \\gamma_{ij}$$"
   ]
  },
  {
   "cell_type": "code",
   "execution_count": 86,
   "id": "56e5e510",
   "metadata": {
    "ExecuteTime": {
     "end_time": "2022-01-31T04:22:52.479790Z",
     "start_time": "2022-01-31T04:22:52.406383Z"
    }
   },
   "outputs": [
    {
     "data": {
      "text/latex": [
       "$\\displaystyle - \\frac{3 \\sqrt{2} \\sqrt{\\frac{M}{r}}}{2 r}$"
      ],
      "text/plain": [
       "-3*sqrt(2)*sqrt(M/r)/(2*r)"
      ]
     },
     "execution_count": 86,
     "metadata": {},
     "output_type": "execute_result"
    }
   ],
   "source": [
    "sympy.trace(gamma.matrix.inv() * K_ij)"
   ]
  },
  {
   "cell_type": "code",
   "execution_count": null,
   "id": "fa5c5446",
   "metadata": {},
   "outputs": [],
   "source": []
  },
  {
   "cell_type": "code",
   "execution_count": null,
   "id": "3ce5cda9",
   "metadata": {},
   "outputs": [],
   "source": []
  },
  {
   "cell_type": "code",
   "execution_count": null,
   "id": "59774652",
   "metadata": {},
   "outputs": [],
   "source": []
  },
  {
   "cell_type": "code",
   "execution_count": null,
   "id": "f9273f41",
   "metadata": {},
   "outputs": [],
   "source": []
  },
  {
   "cell_type": "code",
   "execution_count": null,
   "id": "d5eaf965",
   "metadata": {},
   "outputs": [],
   "source": []
  },
  {
   "cell_type": "code",
   "execution_count": null,
   "id": "50d1cf1c",
   "metadata": {},
   "outputs": [],
   "source": []
  },
  {
   "cell_type": "code",
   "execution_count": null,
   "id": "c6562af4",
   "metadata": {},
   "outputs": [],
   "source": []
  },
  {
   "cell_type": "code",
   "execution_count": null,
   "id": "4de4b83a",
   "metadata": {},
   "outputs": [],
   "source": []
  }
 ],
 "metadata": {
  "kernelspec": {
   "display_name": "Python 3 (ipykernel)",
   "language": "python",
   "name": "python3"
  },
  "language_info": {
   "codemirror_mode": {
    "name": "ipython",
    "version": 3
   },
   "file_extension": ".py",
   "mimetype": "text/x-python",
   "name": "python",
   "nbconvert_exporter": "python",
   "pygments_lexer": "ipython3",
   "version": "3.10.1"
  }
 },
 "nbformat": 4,
 "nbformat_minor": 5
}