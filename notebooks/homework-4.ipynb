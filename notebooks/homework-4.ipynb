{
 "cells": [
  {
   "cell_type": "markdown",
   "id": "00e95c35",
   "metadata": {},
   "source": [
    "# HW 4"
   ]
  },
  {
   "cell_type": "markdown",
   "id": "ec48c332",
   "metadata": {},
   "source": [
    "## Imports"
   ]
  },
  {
   "cell_type": "code",
   "execution_count": 1,
   "id": "c93417c2",
   "metadata": {
    "ExecuteTime": {
     "end_time": "2022-02-14T00:31:25.706907Z",
     "start_time": "2022-02-14T00:31:25.695148Z"
    }
   },
   "outputs": [],
   "source": [
    "import nbtools\n",
    "nbtools.setup_nb()"
   ]
  },
  {
   "cell_type": "code",
   "execution_count": 2,
   "id": "00fd5f73",
   "metadata": {
    "ExecuteTime": {
     "end_time": "2022-02-14T00:31:27.705067Z",
     "start_time": "2022-02-14T00:31:26.566700Z"
    }
   },
   "outputs": [],
   "source": [
    "import itertools\n",
    "import sympy\n",
    "from sympy.diffgeom import Manifold, Patch\n",
    "from pystein import coords, metric, curvature\n",
    "from pystein.utilities import tensor_pow as tpow, full_simplify"
   ]
  },
  {
   "cell_type": "markdown",
   "id": "a2c53209",
   "metadata": {},
   "source": [
    "## Problem 1"
   ]
  },
  {
   "cell_type": "markdown",
   "id": "49de577a",
   "metadata": {},
   "source": [
    "### Problem 1.1"
   ]
  },
  {
   "cell_type": "code",
   "execution_count": 16,
   "id": "4307cbb6",
   "metadata": {
    "ExecuteTime": {
     "end_time": "2022-02-14T00:38:23.635979Z",
     "start_time": "2022-02-14T00:38:23.633255Z"
    }
   },
   "outputs": [],
   "source": [
    "def spherical_laplacian_1d(func, param):\n",
    "    inner = param ** 2 * sympy.Derivative(func, param)\n",
    "    return 1 / param ** 2 * sympy.Derivative(inner, param)"
   ]
  },
  {
   "cell_type": "code",
   "execution_count": null,
   "id": "78f359bd",
   "metadata": {},
   "outputs": [],
   "source": []
  },
  {
   "cell_type": "code",
   "execution_count": 22,
   "id": "3bef25d9",
   "metadata": {
    "ExecuteTime": {
     "end_time": "2022-02-14T00:38:56.998122Z",
     "start_time": "2022-02-14T00:38:56.993734Z"
    }
   },
   "outputs": [
    {
     "data": {
      "text/latex": [
       "$\\displaystyle \\frac{r^{2}}{r^{3} + 1}$"
      ],
      "text/plain": [
       "r**2/(r**3 + 1)"
      ]
     },
     "execution_count": 22,
     "metadata": {},
     "output_type": "execute_result"
    }
   ],
   "source": [
    "r = sympy.symbols('r')\n",
    "\n",
    "# psi = sympy.Function('psi')(r)\n",
    "psi_exp = r ** 2 / (1 + r ** 3)\n",
    "psi_exp"
   ]
  },
  {
   "cell_type": "code",
   "execution_count": null,
   "id": "6328e682",
   "metadata": {},
   "outputs": [],
   "source": []
  },
  {
   "cell_type": "code",
   "execution_count": 20,
   "id": "079c7681",
   "metadata": {
    "ExecuteTime": {
     "end_time": "2022-02-14T00:38:49.627220Z",
     "start_time": "2022-02-14T00:38:49.544772Z"
    }
   },
   "outputs": [],
   "source": [
    "lhs = full_simplify(spherical_laplacian_1d(psi_exp, r).doit())"
   ]
  },
  {
   "cell_type": "markdown",
   "id": "5f9d63af",
   "metadata": {},
   "source": [
    "$$\\LARGE g(r)$$"
   ]
  },
  {
   "cell_type": "code",
   "execution_count": 36,
   "id": "559f0c7b",
   "metadata": {
    "ExecuteTime": {
     "end_time": "2022-02-14T01:11:25.931412Z",
     "start_time": "2022-02-14T01:11:25.882997Z"
    }
   },
   "outputs": [
    {
     "data": {
      "text/latex": [
       "$\\displaystyle \\frac{6 \\left(- 2 r^{6} - r^{3} + 1\\right)}{r^{8}}$"
      ],
      "text/plain": [
       "6*(-2*r**6 - r**3 + 1)/r**8"
      ]
     },
     "execution_count": 36,
     "metadata": {},
     "output_type": "execute_result"
    }
   ],
   "source": [
    "g = full_simplify(lhs / full_simplify(psi_exp ** 4))\n",
    "g"
   ]
  },
  {
   "cell_type": "markdown",
   "id": "d5003c44",
   "metadata": {},
   "source": [
    "### Problem 1.2"
   ]
  },
  {
   "cell_type": "markdown",
   "id": "588e1b97",
   "metadata": {},
   "source": [
    "$$\\LARGE\\nabla^2 \\psi - \\psi^4 g(r) = 0 \\equiv \\frac{F}{r^2} \\equiv f$$"
   ]
  },
  {
   "cell_type": "markdown",
   "id": "aabc0080",
   "metadata": {},
   "source": [
    "$$\\LARGE \\frac{1}{r^2}\\partial_r \\left( r^2 \\partial_r \\psi \\right) - 6\\left(\\frac{-2r^6 -r^3 + 1}{r^8}\\right) \\psi^4  = 0 \\equiv \\frac{F}{r^2} \\equiv f$$"
   ]
  },
  {
   "cell_type": "markdown",
   "id": "31cf2bea",
   "metadata": {},
   "source": [
    "$$\\LARGE F = \\partial_r \\left( r^2 \\partial_r \\psi \\right) - 6\\left(\\frac{-2r^6 -r^3 + 1}{r^6}\\right) \\psi^4  = 0$$"
   ]
  },
  {
   "cell_type": "markdown",
   "id": "87a6cd73",
   "metadata": {},
   "source": [
    "$$\\LARGE F = \\partial_r \\left( r^2 \\partial_r \\psi \\right) - r^2 g(r) \\psi^4  = 0$$"
   ]
  },
  {
   "cell_type": "markdown",
   "id": "be260609",
   "metadata": {},
   "source": [
    "$$\\LARGE J_{ij}(\\psi) \\equiv \\frac{\\partial}{\\partial \\psi_j} G_i (\\psi)$$"
   ]
  },
  {
   "cell_type": "markdown",
   "id": "c86839e5",
   "metadata": {},
   "source": [
    "$$\\LARGE \\Phi \\equiv \\frac{\\partial F}{\\partial \\psi} = ? - 4 r^2 g(r) \\psi^3$$"
   ]
  },
  {
   "cell_type": "markdown",
   "id": "8ff7c426",
   "metadata": {},
   "source": [
    "$$\\LARGE A \\equiv \\delta \\psi$$"
   ]
  },
  {
   "cell_type": "code",
   "execution_count": 54,
   "id": "f631195b",
   "metadata": {
    "ExecuteTime": {
     "end_time": "2022-02-14T01:17:02.980663Z",
     "start_time": "2022-02-14T01:17:02.977904Z"
    }
   },
   "outputs": [],
   "source": [
    "psi = sympy.Function('psi')(r)\n",
    "d_psi = sympy.Function('\\\\delta \\\\psi')(r)\n",
    "psi_pert = psi + d_psi\n",
    "g = sympy.symbols('g')"
   ]
  },
  {
   "cell_type": "code",
   "execution_count": 59,
   "id": "3c827814",
   "metadata": {
    "ExecuteTime": {
     "end_time": "2022-02-14T01:18:04.027772Z",
     "start_time": "2022-02-14T01:18:04.025633Z"
    }
   },
   "outputs": [],
   "source": [
    "def F(func, param):\n",
    "    return r ** 2 * spherical_laplacian_1d(func, param) - r ** 2 * g * func ** 4"
   ]
  },
  {
   "cell_type": "code",
   "execution_count": 60,
   "id": "62f2aae9",
   "metadata": {
    "ExecuteTime": {
     "end_time": "2022-02-14T01:18:05.130633Z",
     "start_time": "2022-02-14T01:18:05.018554Z"
    }
   },
   "outputs": [
    {
     "data": {
      "text/latex": [
       "$\\displaystyle r \\left(- g r \\delta \\psi^{4}{\\left(r \\right)} - 4 g r \\delta \\psi^{3}{\\left(r \\right)} \\psi{\\left(r \\right)} - 6 g r \\delta \\psi^{2}{\\left(r \\right)} \\psi^{2}{\\left(r \\right)} - 4 g r \\delta \\psi{\\left(r \\right)} \\psi^{3}{\\left(r \\right)} + r \\frac{d^{2}}{d r^{2}} \\delta \\psi{\\left(r \\right)} + 2 \\frac{d}{d r} \\delta \\psi{\\left(r \\right)}\\right)$"
      ],
      "text/plain": [
       "r*(-g*r*\\delta \\psi(r)**4 - 4*g*r*\\delta \\psi(r)**3*psi(r) - 6*g*r*\\delta \\psi(r)**2*psi(r)**2 - 4*g*r*\\delta \\psi(r)*psi(r)**3 + r*Derivative(\\delta \\psi(r), (r, 2)) + 2*Derivative(\\delta \\psi(r), r))"
      ]
     },
     "execution_count": 60,
     "metadata": {},
     "output_type": "execute_result"
    }
   ],
   "source": [
    "rhs = F(psi_pert, r) - F(psi, r)\n",
    "rhs = full_simplify(rhs.doit())\n",
    "rhs"
   ]
  },
  {
   "cell_type": "code",
   "execution_count": 61,
   "id": "2f33a594",
   "metadata": {
    "ExecuteTime": {
     "end_time": "2022-02-14T01:18:05.931566Z",
     "start_time": "2022-02-14T01:18:05.929360Z"
    }
   },
   "outputs": [],
   "source": [
    "first_order_subs = [\n",
    "    (d_psi ** 2, 0),\n",
    "    (d_psi ** 3, 0),\n",
    "    (d_psi ** 4, 0),\n",
    "]"
   ]
  },
  {
   "cell_type": "code",
   "execution_count": 62,
   "id": "14b0f6ec",
   "metadata": {
    "ExecuteTime": {
     "end_time": "2022-02-14T01:18:06.207920Z",
     "start_time": "2022-02-14T01:18:06.154478Z"
    }
   },
   "outputs": [
    {
     "data": {
      "text/latex": [
       "$\\displaystyle r \\left(- 4 g r \\delta \\psi{\\left(r \\right)} \\psi^{3}{\\left(r \\right)} + r \\frac{d^{2}}{d r^{2}} \\delta \\psi{\\left(r \\right)} + 2 \\frac{d}{d r} \\delta \\psi{\\left(r \\right)}\\right)$"
      ],
      "text/plain": [
       "r*(-4*g*r*\\delta \\psi(r)*psi(r)**3 + r*Derivative(\\delta \\psi(r), (r, 2)) + 2*Derivative(\\delta \\psi(r), r))"
      ]
     },
     "execution_count": 62,
     "metadata": {},
     "output_type": "execute_result"
    }
   ],
   "source": [
    "full_simplify(sympy.expand(rhs).subs(first_order_subs))"
   ]
  },
  {
   "cell_type": "markdown",
   "id": "c35a8088",
   "metadata": {},
   "source": [
    "$$\\LARGE A \\Phi = - 4 g r^2 \\delta \\psi \\psi^3 + r^2 \\partial^2_r \\delta \\psi + 2 r \\partial_r \\delta \\psi$$"
   ]
  },
  {
   "cell_type": "markdown",
   "id": "5c14e7b0",
   "metadata": {},
   "source": [
    "$$\\LARGE A \\Phi = - 4 g r^2 \\delta \\psi \\psi^3 + \\partial_r \\left(r^2 \\partial_r \\delta \\psi\\right)$$"
   ]
  },
  {
   "cell_type": "markdown",
   "id": "48c716bb",
   "metadata": {},
   "source": [
    "Notes about translating to code:\n",
    "\n",
    "- $A \\Phi$ goes into matvec\n",
    "- $\\psi$ is `self.up`\n",
    "- $\\delta \\psi$ is `Phi_`"
   ]
  },
  {
   "cell_type": "code",
   "execution_count": null,
   "id": "3c027270",
   "metadata": {},
   "outputs": [],
   "source": []
  },
  {
   "cell_type": "markdown",
   "id": "3e82a0b7",
   "metadata": {
    "heading_collapsed": true
   },
   "source": [
    "### Problem 1.2"
   ]
  },
  {
   "cell_type": "code",
   "execution_count": 68,
   "id": "0cfb3bc9",
   "metadata": {
    "ExecuteTime": {
     "end_time": "2022-02-07T01:40:51.714795Z",
     "start_time": "2022-02-07T01:40:51.583875Z"
    },
    "hidden": true
   },
   "outputs": [
    {
     "data": {
      "text/latex": [
       "$\\displaystyle \\rho^{2} \\operatorname{d}\\phi \\otimes \\operatorname{d}\\phi + e^{q{\\left(\\rho,z \\right)}} \\left(\\operatorname{d}\\rho \\otimes \\operatorname{d}\\rho + \\operatorname{d}z \\otimes \\operatorname{d}z\\right)$"
      ],
      "text/plain": [
       "rho**2*TensorProduct(dphi, dphi) + exp(q(rho, z))*(TensorProduct(drho, drho) + TensorProduct(dz, dz))"
      ]
     },
     "execution_count": 68,
     "metadata": {},
     "output_type": "execute_result"
    }
   ],
   "source": [
    "M = Manifold('M', dim=3)\n",
    "P = Patch('origin', M)\n",
    "rho, z, phi = sympy.symbols('rho z phi', nonnegative=True)\n",
    "\n",
    "psi = sympy.Function('psi')(rho, z, phi)\n",
    "q = sympy.Function('q')(rho, z)\n",
    "cs = coords.CoordSystem('cylindrical', P, [rho, z, phi])\n",
    "drho, dz, dphi = cs.base_oneforms()\n",
    "\n",
    "\n",
    "ds2 =  (sympy.exp(q) * (tpow(drho, 2) + tpow(dz, 2)) \n",
    "                  + rho ** 2 * tpow(dphi, 2))\n",
    "gamma = metric.Metric(twoform=ds2)\n",
    "\n",
    "gamma"
   ]
  },
  {
   "cell_type": "code",
   "execution_count": 69,
   "id": "f6665e24",
   "metadata": {
    "ExecuteTime": {
     "end_time": "2022-02-07T01:41:11.523904Z",
     "start_time": "2022-02-07T01:41:11.185129Z"
    },
    "hidden": true
   },
   "outputs": [
    {
     "data": {
      "text/latex": [
       "$\\displaystyle - \\left(\\frac{\\partial^{2}}{\\partial \\rho^{2}} q{\\left(\\rho,z \\right)} + \\frac{\\partial^{2}}{\\partial z^{2}} q{\\left(\\rho,z \\right)}\\right) e^{- q{\\left(\\rho,z \\right)}}$"
      ],
      "text/plain": [
       "-(Derivative(q(rho, z), (rho, 2)) + Derivative(q(rho, z), (z, 2)))*exp(-q(rho, z))"
      ]
     },
     "execution_count": 69,
     "metadata": {},
     "output_type": "execute_result"
    }
   ],
   "source": [
    "ricci = curvature.ricci_scalar(gamma).doit()\n",
    "ricci = full_simplify(ricci)\n",
    "ricci"
   ]
  },
  {
   "cell_type": "code",
   "execution_count": 70,
   "id": "460faee9",
   "metadata": {
    "ExecuteTime": {
     "end_time": "2022-02-07T01:41:14.185374Z",
     "start_time": "2022-02-07T01:41:14.174491Z"
    },
    "hidden": true
   },
   "outputs": [],
   "source": [
    "christoffels = [((i, i, k), curvature.christoffel_symbol_component(k, i, i, gamma).doit()) \n",
    "                for i, k in itertools.product(range(3), range(3))]"
   ]
  },
  {
   "cell_type": "code",
   "execution_count": 71,
   "id": "63e2024a",
   "metadata": {
    "ExecuteTime": {
     "end_time": "2022-02-07T01:41:14.557634Z",
     "start_time": "2022-02-07T01:41:14.514207Z"
    },
    "hidden": true
   },
   "outputs": [
    {
     "data": {
      "text/latex": [
       "$\\begin{split} (\\mu=0, \\nu=0, \\rho=0) &: \\frac{\\frac{\\partial}{\\partial \\rho} q{\\left(\\rho,z \\right)}}{2} \\\\ (\\mu=0, \\nu=0, \\rho=1) &: - \\frac{\\frac{\\partial}{\\partial z} q{\\left(\\rho,z \\right)}}{2} \\\\ (\\mu=0, \\nu=0, \\rho=2) &: 0 \\\\ (\\mu=1, \\nu=1, \\rho=0) &: - \\frac{\\frac{\\partial}{\\partial \\rho} q{\\left(\\rho,z \\right)}}{2} \\\\ (\\mu=1, \\nu=1, \\rho=1) &: \\frac{\\frac{\\partial}{\\partial z} q{\\left(\\rho,z \\right)}}{2} \\\\ (\\mu=1, \\nu=1, \\rho=2) &: 0 \\\\ (\\mu=2, \\nu=2, \\rho=0) &: - \\rho e^{- q{\\left(\\rho,z \\right)}} \\\\ (\\mu=2, \\nu=2, \\rho=1) &: 0 \\\\ (\\mu=2, \\nu=2, \\rho=2) &: 0 \\end{split}$"
      ]
     },
     "metadata": {},
     "output_type": "display_data"
    }
   ],
   "source": [
    "curvature.display_components(christoffels)"
   ]
  },
  {
   "cell_type": "markdown",
   "id": "ac28efd5",
   "metadata": {
    "hidden": true
   },
   "source": [
    "LHS"
   ]
  },
  {
   "cell_type": "code",
   "execution_count": 72,
   "id": "37ad0bb4",
   "metadata": {
    "ExecuteTime": {
     "end_time": "2022-02-07T01:41:16.376879Z",
     "start_time": "2022-02-07T01:41:16.374454Z"
    },
    "hidden": true
   },
   "outputs": [],
   "source": [
    "one_form = [sympy.Derivative(psi, cs.base_symbols()[k]) for k in range(3)]"
   ]
  },
  {
   "cell_type": "code",
   "execution_count": 73,
   "id": "bc94182d",
   "metadata": {
    "ExecuteTime": {
     "end_time": "2022-02-07T01:41:17.017421Z",
     "start_time": "2022-02-07T01:41:17.014430Z"
    },
    "hidden": true
   },
   "outputs": [],
   "source": [
    "def cov_deriv_one_form(i, j, form, g, scale_by_inverse: bool = False):\n",
    "    coord_syms = g.coord_system.base_symbols()\n",
    "    v = sympy.Derivative(form[j], coord_syms[i])\n",
    "    \n",
    "    for k in range(len(coord_syms)):\n",
    "        term = curvature.christoffel_symbol_component(k, i, j, g) * form[k]\n",
    "        if scale_by_inverse:\n",
    "            term *= g.matrix.inverse()[i, j]\n",
    "        v -= term\n",
    "\n",
    "    return full_simplify(v.doit())"
   ]
  },
  {
   "cell_type": "code",
   "execution_count": 74,
   "id": "2fbf593a",
   "metadata": {
    "ExecuteTime": {
     "end_time": "2022-02-07T01:41:17.592911Z",
     "start_time": "2022-02-07T01:41:17.590370Z"
    },
    "hidden": true
   },
   "outputs": [],
   "source": [
    "def Dbar2(i, j, conformal_func, g):\n",
    "    one_form = [sympy.Derivative(psi, g.coord_system.base_symbols()[k]) for k in range(3)]\n",
    "    raw = cov_deriv_one_form(i, j, one_form, g)\n",
    "    return full_simplify(raw.doit())"
   ]
  },
  {
   "cell_type": "code",
   "execution_count": 75,
   "id": "25082921",
   "metadata": {
    "ExecuteTime": {
     "end_time": "2022-02-07T01:41:18.471912Z",
     "start_time": "2022-02-07T01:41:17.974467Z"
    },
    "hidden": true
   },
   "outputs": [],
   "source": [
    "DiDjPsi = sympy.Matrix([[Dbar2(0, j, psi, gamma) for j in range(3)],\n",
    "                            [Dbar2(1, j, psi, gamma) for j in range(3)],\n",
    "                            [Dbar2(2, j, psi, gamma) for j in range(3)]])"
   ]
  },
  {
   "cell_type": "code",
   "execution_count": 76,
   "id": "03dd2795",
   "metadata": {
    "ExecuteTime": {
     "end_time": "2022-02-07T01:41:18.506796Z",
     "start_time": "2022-02-07T01:41:18.473770Z"
    },
    "hidden": true
   },
   "outputs": [],
   "source": [
    "Dbar2Psi = sum([gamma.matrix.inverse()[i, j] * DiDjPsi[i, j] \n",
    "                for i, j in itertools.product(range(3), range(3))])"
   ]
  },
  {
   "cell_type": "code",
   "execution_count": 77,
   "id": "dbaad41e",
   "metadata": {
    "ExecuteTime": {
     "end_time": "2022-02-07T01:41:19.165439Z",
     "start_time": "2022-02-07T01:41:19.054432Z"
    },
    "hidden": true
   },
   "outputs": [],
   "source": [
    "LHS = full_simplify(Dbar2Psi)\n",
    "RHS = psi / 8 * ricci"
   ]
  },
  {
   "cell_type": "code",
   "execution_count": 78,
   "id": "3b9bcea1",
   "metadata": {
    "ExecuteTime": {
     "end_time": "2022-02-07T01:41:19.848623Z",
     "start_time": "2022-02-07T01:41:19.846552Z"
    },
    "hidden": true
   },
   "outputs": [],
   "source": [
    "notation_subs = [\n",
    "    (psi, sympy.symbols('psi'))\n",
    "]"
   ]
  },
  {
   "cell_type": "code",
   "execution_count": 79,
   "id": "9267de3d",
   "metadata": {
    "ExecuteTime": {
     "end_time": "2022-02-07T01:41:20.117420Z",
     "start_time": "2022-02-07T01:41:20.111439Z"
    },
    "hidden": true,
    "scrolled": true
   },
   "outputs": [
    {
     "data": {
      "text/latex": [
       "$\\displaystyle \\frac{\\left(\\rho^{2} \\left(\\frac{d^{2}}{d \\rho^{2}} \\psi + \\frac{d^{2}}{d z^{2}} \\psi\\right) + \\rho \\frac{d}{d \\rho} \\psi + e^{q{\\left(\\rho,z \\right)}} \\frac{d^{2}}{d \\phi^{2}} \\psi\\right) e^{- q{\\left(\\rho,z \\right)}}}{\\rho^{2}}$"
      ],
      "text/plain": [
       "(rho**2*(Derivative(psi, (rho, 2)) + Derivative(psi, (z, 2))) + rho*Derivative(psi, rho) + exp(q(rho, z))*Derivative(psi, (phi, 2)))*exp(-q(rho, z))/rho**2"
      ]
     },
     "execution_count": 79,
     "metadata": {},
     "output_type": "execute_result"
    }
   ],
   "source": [
    "LHS.subs(notation_subs)"
   ]
  },
  {
   "cell_type": "code",
   "execution_count": 80,
   "id": "34b674f5",
   "metadata": {
    "ExecuteTime": {
     "end_time": "2022-02-07T01:41:20.877881Z",
     "start_time": "2022-02-07T01:41:20.873019Z"
    },
    "hidden": true
   },
   "outputs": [
    {
     "data": {
      "text/latex": [
       "$\\displaystyle - \\frac{\\psi \\left(\\frac{\\partial^{2}}{\\partial \\rho^{2}} q{\\left(\\rho,z \\right)} + \\frac{\\partial^{2}}{\\partial z^{2}} q{\\left(\\rho,z \\right)}\\right) e^{- q{\\left(\\rho,z \\right)}}}{8}$"
      ],
      "text/plain": [
       "-psi*(Derivative(q(rho, z), (rho, 2)) + Derivative(q(rho, z), (z, 2)))*exp(-q(rho, z))/8"
      ]
     },
     "execution_count": 80,
     "metadata": {},
     "output_type": "execute_result"
    }
   ],
   "source": [
    "RHS.subs(notation_subs)"
   ]
  },
  {
   "cell_type": "code",
   "execution_count": 50,
   "id": "f4cb4bf5",
   "metadata": {
    "ExecuteTime": {
     "end_time": "2022-02-07T01:27:38.085865Z",
     "start_time": "2022-02-07T01:27:38.083410Z"
    },
    "hidden": true
   },
   "outputs": [],
   "source": [
    "def flat_laplacian(func):\n",
    "    return ((1 / rho) * sympy.Derivative((rho * sympy.Derivative(func, rho)), rho)\n",
    "             + (1 / rho) ** 2 * sympy.Derivative(sympy.Derivative(func, phi), phi)\n",
    "             + sympy.Derivative(sympy.Derivative(func, z), z))"
   ]
  },
  {
   "cell_type": "code",
   "execution_count": 67,
   "id": "93ead6eb",
   "metadata": {
    "ExecuteTime": {
     "end_time": "2022-02-07T01:30:18.516554Z",
     "start_time": "2022-02-07T01:30:18.508085Z"
    },
    "hidden": true
   },
   "outputs": [
    {
     "data": {
      "text/latex": [
       "$\\displaystyle \\frac{d^{2}}{d z^{2}} \\psi + \\frac{\\rho \\frac{d^{2}}{d \\rho^{2}} \\psi + \\frac{d}{d \\rho} \\psi}{\\rho} + \\frac{\\frac{d^{2}}{d \\phi^{2}} \\psi}{\\rho^{2}}$"
      ],
      "text/plain": [
       "Derivative(psi, (z, 2)) + (rho*Derivative(psi, (rho, 2)) + Derivative(psi, rho))/rho + Derivative(psi, (phi, 2))/rho**2"
      ]
     },
     "execution_count": 67,
     "metadata": {},
     "output_type": "execute_result"
    }
   ],
   "source": [
    "flat_laplacian(psi).doit().subs(notation_subs)"
   ]
  },
  {
   "cell_type": "code",
   "execution_count": 81,
   "id": "31f2bb09",
   "metadata": {
    "ExecuteTime": {
     "end_time": "2022-02-07T01:45:48.780216Z",
     "start_time": "2022-02-07T01:45:48.772932Z"
    },
    "hidden": true
   },
   "outputs": [
    {
     "data": {
      "text/latex": [
       "$\\displaystyle \\left[\\begin{matrix}e^{- q{\\left(\\rho,z \\right)}} & 0 & 0\\\\0 & e^{- q{\\left(\\rho,z \\right)}} & 0\\\\0 & 0 & \\frac{1}{\\rho^{2}}\\end{matrix}\\right]$"
      ],
      "text/plain": [
       "Matrix([\n",
       "[exp(-q(rho, z)),               0,         0],\n",
       "[              0, exp(-q(rho, z)),         0],\n",
       "[              0,               0, rho**(-2)]])"
      ]
     },
     "execution_count": 81,
     "metadata": {},
     "output_type": "execute_result"
    }
   ],
   "source": [
    "gamma.matrix.inverse()"
   ]
  },
  {
   "cell_type": "code",
   "execution_count": null,
   "id": "ce2471fd",
   "metadata": {
    "hidden": true
   },
   "outputs": [],
   "source": []
  },
  {
   "cell_type": "code",
   "execution_count": null,
   "id": "13461f67",
   "metadata": {
    "hidden": true
   },
   "outputs": [],
   "source": []
  },
  {
   "cell_type": "code",
   "execution_count": null,
   "id": "17fee431",
   "metadata": {
    "hidden": true
   },
   "outputs": [],
   "source": [
    "cov_deriv_one_form()"
   ]
  },
  {
   "cell_type": "code",
   "execution_count": null,
   "id": "162a8e41",
   "metadata": {
    "hidden": true
   },
   "outputs": [],
   "source": []
  }
 ],
 "metadata": {
  "kernelspec": {
   "display_name": "Python 3 (ipykernel)",
   "language": "python",
   "name": "python3"
  },
  "language_info": {
   "codemirror_mode": {
    "name": "ipython",
    "version": 3
   },
   "file_extension": ".py",
   "mimetype": "text/x-python",
   "name": "python",
   "nbconvert_exporter": "python",
   "pygments_lexer": "ipython3",
   "version": "3.10.2"
  }
 },
 "nbformat": 4,
 "nbformat_minor": 5
}
